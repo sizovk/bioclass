{
 "cells": [
  {
   "cell_type": "markdown",
   "id": "21a76b3f",
   "metadata": {},
   "source": [
    "# Домашняя работа, pandas\n",
    "\n",
    "__Дедлайн: 27 мая__\n",
    "\n",
    "Перед оформлением решений, их можно протестировать на платформе stepic: https://stepik.org/lesson/190317/step/11?unit=188757\n",
    "\n",
    "Сдавать ДЗ в гугл классрум, ссылка: https://classroom.google.com/c/NTE1NDE4MjM2MDg3?cjc=hhljzt4"
   ]
  },
  {
   "cell_type": "markdown",
   "id": "9e21346e",
   "metadata": {},
   "source": [
    "### Задача 1\n",
    "\n",
    "Переменная df содержит DataFrame.\n",
    "\n",
    "Выведите на печать строки с индексами 0, 2, 3.\n",
    "\n",
    "Важно. Обратите внимание, что хотя у 1-ого Dataframe назначены произвольные строки в качестве индексов, к ним тем не менее можно обратиться и по их порядковым значениям!"
   ]
  },
  {
   "cell_type": "code",
   "execution_count": null,
   "id": "5401678b",
   "metadata": {},
   "outputs": [],
   "source": [
    "# ༼ つ ◕_◕ ༽つ"
   ]
  },
  {
   "cell_type": "markdown",
   "id": "b5d28453",
   "metadata": {},
   "source": [
    "### Задача 2\n",
    "\n",
    "Переменная df содержит DataFrame.\n",
    "\n",
    "Выведите на печать только столбцы 'name' и 'age' (гарантируется, что они есть)"
   ]
  },
  {
   "cell_type": "code",
   "execution_count": null,
   "id": "b0a927d4",
   "metadata": {},
   "outputs": [],
   "source": [
    "# ༼ つ ◕_◕ ༽つ"
   ]
  },
  {
   "cell_type": "markdown",
   "id": "71ea573d",
   "metadata": {},
   "source": [
    "### Задача 3\n",
    "\n",
    "Переменная df содержит DataFrame.\n",
    "\n",
    "Выведите на печать только столбцы 'name' и 'age' И строки 0, 2, 3 (гарантируется, что они есть)"
   ]
  },
  {
   "cell_type": "code",
   "execution_count": null,
   "id": "457fe970",
   "metadata": {},
   "outputs": [],
   "source": [
    "# ༼ つ ◕_◕ ༽つ"
   ]
  },
  {
   "cell_type": "markdown",
   "id": "a5574e19",
   "metadata": {},
   "source": [
    "### Задача 4\n",
    "\n",
    "Переменная df содержит DataFrame.\n",
    "\n",
    "Выведите на печать только данные, относящиеся к записям, возраст которых больше, указанного в переменное critical_age."
   ]
  },
  {
   "cell_type": "code",
   "execution_count": null,
   "id": "30d36130",
   "metadata": {},
   "outputs": [],
   "source": [
    "# ༼ つ ◕_◕ ༽つ"
   ]
  },
  {
   "cell_type": "markdown",
   "id": "aa39e645",
   "metadata": {},
   "source": [
    "### Задача 5\n",
    "\n",
    "Переменная df содержит DataFrame.\n",
    "\n",
    "Выведите на печать только данные, в которых не заполнен возраст (в графе 'age' стоит null)."
   ]
  },
  {
   "cell_type": "code",
   "execution_count": null,
   "id": "1c368fc8",
   "metadata": {},
   "outputs": [],
   "source": [
    "# ༼ つ ◕_◕ ༽つ"
   ]
  }
 ],
 "metadata": {
  "kernelspec": {
   "display_name": "Python 3 (ipykernel)",
   "language": "python",
   "name": "python3"
  },
  "language_info": {
   "codemirror_mode": {
    "name": "ipython",
    "version": 3
   },
   "file_extension": ".py",
   "mimetype": "text/x-python",
   "name": "python",
   "nbconvert_exporter": "python",
   "pygments_lexer": "ipython3",
   "version": "3.9.7"
  }
 },
 "nbformat": 4,
 "nbformat_minor": 5
}
